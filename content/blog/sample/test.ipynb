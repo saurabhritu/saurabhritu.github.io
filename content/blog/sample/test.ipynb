{
  "cells": [
    {
      "cell_type": "code",
      "execution_count": null,
      "metadata": {
        "id": "aafUmj0_4Oeb"
      },
      "outputs": [],
      "source": [
        "import pandas as pd"
      ]
    },
    {
      "cell_type": "code",
      "execution_count": null,
      "metadata": {
        "colab": {
          "base_uri": "https://localhost:8080/"
        },
        "id": "7yvdW6wX4SvR",
        "outputId": "a30e2d8c-e67b-4c5f-c206-75d3f004a83b"
      },
      "outputs": [
        {
          "name": "stdout",
          "output_type": "stream",
          "text": [
            "Hello World!\n"
          ]
        }
      ],
      "source": [
        "print(\"Hello World!\")"
      ]
    },
    {
      "cell_type": "code",
      "execution_count": null,
      "metadata": {
        "id": "V9zc_vN04kw6"
      },
      "outputs": [],
      "source": [
        "# Sample data\n",
        "data = {\n",
        "    \"timestamp\": [\n",
        "        \"2025-08-06 10:00:00\",\n",
        "        \"2025-08-06 10:05:00\",\n",
        "        \"2025-08-06 10:10:00\",\n",
        "        \"2025-08-06 10:15:00\",\n",
        "        \"2025-08-06 10:20:00\"\n",
        "    ],\n",
        "    \"device_id\": [\"dev1\", \"dev1\", \"dev1\", \"dev1\", \"dev1\"],\n",
        "    \"temperature_C\": [25.3, 25.5, 25.7, 25.6, 25.8],\n",
        "    \"humidity_%\": [55, 54, 56, 55, 53],\n",
        "    \"voltage_V\": [3.3, 3.3, 3.3, 3.2, 3.3]\n",
        "}"
      ]
    },
    {
      "cell_type": "code",
      "execution_count": null,
      "metadata": {
        "id": "rSAz96pW4oaH"
      },
      "outputs": [],
      "source": [
        "# Create DataFrame\n",
        "df = pd.DataFrame(data)"
      ]
    },
    {
      "cell_type": "code",
      "execution_count": null,
      "metadata": {
        "id": "2GE5H_nV4reu"
      },
      "outputs": [],
      "source": [
        "# Convert timestamp column to datetime\n",
        "df[\"timestamp\"] = pd.to_datetime(df[\"timestamp\"])"
      ]
    },
    {
      "cell_type": "code",
      "execution_count": null,
      "metadata": {
        "colab": {
          "base_uri": "https://localhost:8080/"
        },
        "id": "7bchP62-4uUm",
        "outputId": "0b3a2f77-1670-4b88-d0b1-fdb966dc6552"
      },
      "outputs": [
        {
          "name": "stdout",
          "output_type": "stream",
          "text": [
            "            timestamp device_id  temperature_C  humidity_%  voltage_V\n",
            "0 2025-08-06 10:00:00      dev1           25.3          55        3.3\n",
            "1 2025-08-06 10:05:00      dev1           25.5          54        3.3\n",
            "2 2025-08-06 10:10:00      dev1           25.7          56        3.3\n",
            "3 2025-08-06 10:15:00      dev1           25.6          55        3.2\n",
            "4 2025-08-06 10:20:00      dev1           25.8          53        3.3\n"
          ]
        }
      ],
      "source": [
        "print(df)"
      ]
    }
  ],
  "metadata": {
    "colab": {
      "provenance": []
    },
    "kernelspec": {
      "display_name": "Python 3",
      "name": "python3"
    },
    "language_info": {
      "name": "python"
    }
  },
  "nbformat": 4,
  "nbformat_minor": 0
}
